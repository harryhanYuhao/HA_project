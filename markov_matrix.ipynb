{
 "cells": [
  {
   "cell_type": "markdown",
   "id": "40a654a6",
   "metadata": {},
   "source": [
    "## 3. Markov Matrix\n"
   ]
  },
  {
   "cell_type": "markdown",
   "id": "ed202f0e",
   "metadata": {},
   "source": [
    "Markov matrix provides information about how each node (webpage in the context of Google PageRank) communicates with one another. Lemma 4.7.6 ensures us that any Markov matrix has an eigenvalue of 1. In fact, 1 is also the largest eigenvalue of this Markov matrix. Here, we can utilize Sage functionalities to run a large number of cases and verify this."
   ]
  },
  {
   "cell_type": "markdown",
   "id": "a43f5af7",
   "metadata": {},
   "source": [
    "Given a Markov matrix M, we may use `pretty_print()` to make it nicely presented."
   ]
  },
  {
   "cell_type": "code",
   "execution_count": null,
   "id": "ef3e064e",
   "metadata": {},
   "outputs": [],
   "source": [
    "M = matrix(QQ,4,4,[1/3,1/2,0,1/4, 1/3,0,0,1/4, 0,1/2,0,1/4, 1/3,0,1,1/4 ])\n",
    "pretty_print(M)"
   ]
  },
  {
   "cell_type": "markdown",
   "id": "13be8a45",
   "metadata": {},
   "source": [
    "Return the list of eigenvalues by `eigenvalues()` and select the largest one by `max()`."
   ]
  },
  {
   "cell_type": "code",
   "execution_count": null,
   "id": "523f3b09",
   "metadata": {},
   "outputs": [],
   "source": [
    "max(M.eigenvalues())"
   ]
  },
  {
   "cell_type": "markdown",
   "id": "7a3ca24d",
   "metadata": {},
   "source": [
    "You can freely substitute any other Markov matrix for M to check if its largest eigenvalue is still 1. However, manually typing a matrix is time-consuming, so we need a function that automatically generates a random Markov matrix. Note that in this notebook, we assume all entries of the matrix are rational numbers for convenience."
   ]
  },
  {
   "cell_type": "markdown",
   "id": "b91cccd7",
   "metadata": {},
   "source": [
    "<div class=\"alert alert-info\">\n",
    "    <h3>Exercise 3.1</h3><span class=\"label label-danger\">(assessed)</span> 2pts\n",
    "\n",
    "Write a function `markov_matrix_generator` which takes in `n` as the size of the matrix and returns a random Markov matrix.\n",
    "\n",
    "Caution: Markov matrices often are expressed with row sums being one; here we have column sums being one. \n",
    "</div>"
   ]
  },
  {
   "cell_type": "code",
   "execution_count": null,
   "id": "89e15ffb",
   "metadata": {
    "slideshow": {
     "slide_type": "slide"
    }
   },
   "outputs": [],
   "source": [
    "#your code here\n",
    "def markov_matrix_generator(n):\n",
    "    '''\n",
    "    This function should return a random Markiv matrix of size n.\n",
    "    '''\n",
    "    entries = []\n",
    "    \n",
    "    # Iterate for n rows\n",
    "    for i in range(n):\n",
    "        \n",
    "        # Initialize each row\n",
    "        row = [0]*n\n",
    "        \n",
    "        # Random number of nonzero entries in a row\n",
    "        num_of_nonzero  = randint(1,n)\n",
    "        \n",
    "        # Sum of a row\n",
    "        s = 0\n",
    "        \n",
    "        # List of nonzero entries\n",
    "        nonzero_in_rows = []\n",
    "        \n",
    "        # Interate to generate each nonzero entry in a row\n",
    "        for j in range(num_of_nonzero):\n",
    "            \n",
    "            # The random entry\n",
    "            r = random()\n",
    "            \n",
    "            # Sum up for later nomorlization\n",
    "            s += r\n",
    "            \n",
    "            nonzero_in_rows.append(r)\n",
    "            \n",
    "        # Normalize to ensure that sum of a row is 1\n",
    "        nonzero_in_rows = [number/s for number in nonzero_in_rows]\n",
    "        \n",
    "        # Replace the initialize row with the one randomly generated\n",
    "        row[0:num_of_nonzero] = nonzero_in_rows\n",
    "        \n",
    "        # Randomly ditribute the nonzero entries\n",
    "        shuffle(row)\n",
    "        \n",
    "        \n",
    "        entries.append(row)\n",
    "             \n",
    "    # Return the tranpose of the matrix as we want the column sum to be 1\n",
    "    return matrix(QQ,n,n,entries).transpose()\n",
    "        \n",
    "    "
   ]
  },
  {
   "cell_type": "code",
   "execution_count": null,
   "id": "06369be7",
   "metadata": {},
   "outputs": [],
   "source": [
    "#Here's a cell to experiment whether your code works\n",
    "pretty_print(markov_matrix_generator(3))\n",
    "pretty_print(markov_matrix_generator(4))\n"
   ]
  },
  {
   "cell_type": "code",
   "execution_count": null,
   "id": "174e06bd",
   "metadata": {},
   "outputs": [],
   "source": [
    "#Autograder test cell \n",
    "M = markov_matrix_generator(4)\n",
    "column_sum = sum(M)\n",
    "for i in column_sum:\n",
    "    assert round(i,6) == 1\n",
    "    \n",
    "M = markov_matrix_generator(12)\n",
    "column_sum = sum(M)\n",
    "for i in column_sum:\n",
    "    assert round(i,6) == 1\n",
    "    \n",
    "print(\"Success! Your function generates random Markov matrix correctly.\")"
   ]
  },
  {
   "cell_type": "markdown",
   "id": "153cad8d",
   "metadata": {},
   "source": [
    "Now you may play with the `markov_matrix_generator` function to check its largest eigenvalue."
   ]
  },
  {
   "cell_type": "markdown",
   "id": "3dbb99ac",
   "metadata": {},
   "source": [
    "<div class=\"alert alert-info\">\n",
    "    <h3>Exercise 3.2</h3><span class=\"label label-primary\">(non-assessed)</span>\n",
    "\n",
    "Conduct enough experiments to convince yourself that for any Markov matrix, its largest eigenvalue is 1. Discuss with your partner why this result holds. \n",
    "    \n",
    "Hint: you may check Gershgorin circle theorem."
   ]
  },
  {
   "cell_type": "code",
   "execution_count": null,
   "id": "425b33b8",
   "metadata": {},
   "outputs": [],
   "source": [
    "#your code here\n",
    "\n",
    "# Test for n = 1,2,3,...10\n",
    "for i in range(2,11):\n",
    "    # For each n, experiment 100 times\n",
    "    for j in range(100):\n",
    "        M = markov_matrix_generator(i)\n",
    "        \n",
    "        # Check for the case that expected result does not hold\n",
    "        if round(max(M.eigenvalues()),6) != 1.0:\n",
    "            print(\"There is a matrix that its largest eigenvalue is not 1.\")\n",
    "            break;\n",
    "\n",
    "print(\"All cases match the expected result!\")"
   ]
  },
  {
   "cell_type": "markdown",
   "id": "fca7aa51",
   "metadata": {},
   "source": [
    "***Answer for reference:***\n",
    "\n",
    "Gershgorin circle theorem stats that:\n",
    "\n",
    "Let $A$ be a complex $n \\times n$ matrix, with entries $a_{ij}$. For $i \\in \\{1, \\ldots, n\\}$ let $R_i$ be the sum of the absolute values of the non-diagonal entries in the $i$-th row:\n",
    "\n",
    "$$ R_i = \\sum_{j \\neq i}^n |a_{ij}|.$$\n",
    "\n",
    "Let $D(a_{ii}, R_i) \\subseteq \\mathbb{C}$ be a closed disc centered at $a_{ii}$ with radius $R_i$. Such a disc is called a Gershgorin disc. Then every eigenvalue of $A$ lies within at least one of the Gershgorin discs $D(a_{ii}, R_i)$.\n",
    "\n",
    "Let $M$ be an arbitrary $n \\times n$ Markov matrix and then we consider $M^T$. Let $i$ be arbitrary where $1 \\leq i \\leq n$, then\n",
    "\n",
    "$$R_i = \\sum_{j \\neq i}^n |m_{ij}| = 1-m_{ii},$$\n",
    "\n",
    "since the row sum of $M^T$ is 1. Then any eigenvalue $\\lambda$ of $M$ lies within the Gershgorin discs $D(m_{ii}, 1-m_{ii})$. Equivalently,\n",
    "\n",
    "$$2m_{ii} - 1 \\leq \\lambda \\leq 1.$$\n",
    "\n",
    "And since all entries of $M$ satisfy $0\\leq m_{ij} \\leq 1$,\n",
    "\n",
    "$$ |\\lambda| \\leq 1.$$\n",
    "\n",
    "So all eigenvalues of $M^T$ have absolute values less than or equal to one. As square matrices share the same eigenvalues as their transposes, the same conclusion holds for $M$.\n",
    "\n",
    "Finally, combining Lemma 4.7.6 from the course notes, which states that $1$ is an eigenvalue for all Markov matrices, we conclude that for all Markov matrices, $1$ is the largest eigenvalue."
   ]
  }
 ],
 "metadata": {
  "kernelspec": {
   "display_name": "SageMath 9.7",
   "language": "sage",
   "name": "sagemath"
  },
  "language_info": {
   "codemirror_mode": {
    "name": "ipython",
    "version": 3
   },
   "file_extension": ".py",
   "mimetype": "text/x-python",
   "name": "python",
   "nbconvert_exporter": "python",
   "pygments_lexer": "ipython3",
   "version": "3.10.5"
  }
 },
 "nbformat": 4,
 "nbformat_minor": 5
}
