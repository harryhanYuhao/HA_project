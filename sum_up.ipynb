{
 "cells": [
  {
   "cell_type": "markdown",
   "id": "a21279b4",
   "metadata": {},
   "source": [
    "# Apply To Pagerank"
   ]
  },
  {
   "cell_type": "markdown",
   "id": "008a670e",
   "metadata": {},
   "source": [
    "As stated above, the internet can be represented as a graph, which in turn can be represented as a matrix. Google page rank algorithm converted this matrix to a markov matrix. The eigenvector of the markov matrix determines the ranking of the page.\n",
    "\n",
    "Here we shall generate a matrix representation of the internet, and construct the markov matrix from it."
   ]
  },
  {
   "cell_type": "code",
   "execution_count": null,
   "id": "7fefa5dd",
   "metadata": {},
   "outputs": [],
   "source": [
    "dim = 10\n",
    "M = markov_matrix_generator(dim)\n",
    "q0 = vector(QQ, [1/1000 for i in range(dim)])\n",
    "eigen_vec = power_iteration_tor(M, q0)\n",
    "\n",
    "indexes = [i[0] for i in sorted(enumerate(list(eigen_vec[1])), key=lambda x:x[1])]\n",
    "print(\"The ranking of the websites are:\")\n",
    "print(indexes)"
   ]
  }
 ],
 "metadata": {
  "kernelspec": {
   "display_name": "SageMath 9.7",
   "language": "sage",
   "name": "sagemath"
  },
  "language_info": {
   "codemirror_mode": {
    "name": "ipython",
    "version": 3
   },
   "file_extension": ".py",
   "mimetype": "text/x-python",
   "name": "python",
   "nbconvert_exporter": "python",
   "pygments_lexer": "ipython3",
   "version": "3.10.5"
  }
 },
 "nbformat": 4,
 "nbformat_minor": 5
}
